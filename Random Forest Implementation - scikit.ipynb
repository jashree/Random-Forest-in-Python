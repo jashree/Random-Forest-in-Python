{
 "cells": [
  {
   "cell_type": "code",
   "execution_count": 4,
   "metadata": {},
   "outputs": [],
   "source": [
    "# Required Python Packages\n",
    "import pandas as pd\n",
    "from sklearn.model_selection import train_test_split\n",
    "from sklearn.ensemble import RandomForestClassifier\n",
    "from sklearn.metrics import accuracy_score\n",
    "from sklearn.metrics import confusion_matrix"
   ]
  },
  {
   "cell_type": "code",
   "execution_count": 5,
   "metadata": {},
   "outputs": [],
   "source": [
    "# File Paths\n",
    "INPUT_PATH = \"https://archive.ics.uci.edu/ml/machine-learning-databases/breast-cancer-wisconsin/breast-cancer-wisconsin.data\"\n",
    "OUTPUT_PATH = \"breast-cancer-wisconsin.csv\""
   ]
  },
  {
   "cell_type": "code",
   "execution_count": 6,
   "metadata": {},
   "outputs": [],
   "source": [
    "# Headers\n",
    "HEADERS = [\"CodeNumber\", \"ClumpThickness\", \"UniformityCellSize\", \"UniformityCellShape\", \"MarginalAdhesion\",\n",
    "           \"SingleEpithelialCellSize\", \"BareNuclei\", \"BlandChromatin\", \"NormalNucleoli\", \"Mitoses\", \"CancerType\"]"
   ]
  },
  {
   "cell_type": "code",
   "execution_count": 9,
   "metadata": {},
   "outputs": [
    {
     "name": "stdout",
     "output_type": "stream",
     "text": [
      "File saved ...!\n"
     ]
    }
   ],
   "source": [
    "# Load the dataset into Pandas data frame\n",
    "dataset = pd.read_csv(INPUT_PATH)\n",
    "\n",
    "# Add the headers to the loaded dataset\n",
    "dataset.columns = HEADERS\n",
    "\n",
    "# Save the loaded dataset into csv format\n",
    "dataset.to_csv(OUTPUT_PATH, index=False)\n",
    "print (\"File saved ...!\")"
   ]
  },
  {
   "cell_type": "code",
   "execution_count": 10,
   "metadata": {},
   "outputs": [],
   "source": [
    "# Load the csv file into pandas dataframe\n",
    "dataset = pd.read_csv(OUTPUT_PATH)"
   ]
  },
  {
   "cell_type": "code",
   "execution_count": 12,
   "metadata": {},
   "outputs": [
    {
     "name": "stdout",
     "output_type": "stream",
     "text": [
      "         CodeNumber  ClumpThickness  UniformityCellSize  UniformityCellShape  \\\n",
      "count  6.980000e+02      698.000000          698.000000           698.000000   \n",
      "mean   1.071807e+06        4.416905            3.137536             3.210602   \n",
      "std    6.175323e+05        2.817673            3.052575             2.972867   \n",
      "min    6.163400e+04        1.000000            1.000000             1.000000   \n",
      "25%    8.702582e+05        2.000000            1.000000             1.000000   \n",
      "50%    1.171710e+06        4.000000            1.000000             1.000000   \n",
      "75%    1.238354e+06        6.000000            5.000000             5.000000   \n",
      "max    1.345435e+07       10.000000           10.000000            10.000000   \n",
      "\n",
      "       MarginalAdhesion  SingleEpithelialCellSize  BlandChromatin  \\\n",
      "count        698.000000                698.000000      698.000000   \n",
      "mean           2.809456                  3.217765        3.438395   \n",
      "std            2.856606                  2.215408        2.440056   \n",
      "min            1.000000                  1.000000        1.000000   \n",
      "25%            1.000000                  2.000000        2.000000   \n",
      "50%            1.000000                  2.000000        3.000000   \n",
      "75%            4.000000                  4.000000        5.000000   \n",
      "max           10.000000                 10.000000       10.000000   \n",
      "\n",
      "       NormalNucleoli     Mitoses  CancerType  \n",
      "count      698.000000  698.000000  698.000000  \n",
      "mean         2.869628    1.590258    2.690544  \n",
      "std          3.055004    1.716162    0.951596  \n",
      "min          1.000000    1.000000    2.000000  \n",
      "25%          1.000000    1.000000    2.000000  \n",
      "50%          1.000000    1.000000    2.000000  \n",
      "75%          4.000000    1.000000    4.000000  \n",
      "max         10.000000   10.000000    4.000000  \n"
     ]
    }
   ],
   "source": [
    "# Get basic statistics of the loaded dataset\n",
    "print (dataset.describe())"
   ]
  },
  {
   "cell_type": "code",
   "execution_count": 17,
   "metadata": {},
   "outputs": [],
   "source": [
    "# Filter missing values\n",
    "dataset = dataset[dataset[HEADERS[6]] != '?']\n",
    "train_x, test_x, train_y, test_y = train_test_split(dataset[HEADERS[1:-1]], dataset[HEADERS[-1]],test_size=0.3)"
   ]
  },
  {
   "cell_type": "code",
   "execution_count": 18,
   "metadata": {},
   "outputs": [
    {
     "name": "stdout",
     "output_type": "stream",
     "text": [
      "Train_x Shape ::  (477, 9)\n",
      "Train_y Shape ::  (477,)\n",
      "Test_x Shape ::  (205, 9)\n",
      "Test_y Shape ::  (205,)\n"
     ]
    }
   ],
   "source": [
    "# Train and Test dataset size details\n",
    "print (\"Train_x Shape :: \", train_x.shape)\n",
    "print (\"Train_y Shape :: \", train_y.shape)\n",
    "print (\"Test_x Shape :: \", test_x.shape)\n",
    "print (\"Test_y Shape :: \", test_y.shape)"
   ]
  },
  {
   "cell_type": "code",
   "execution_count": 19,
   "metadata": {},
   "outputs": [
    {
     "name": "stdout",
     "output_type": "stream",
     "text": [
      "Trained model ::  RandomForestClassifier(bootstrap=True, class_weight=None, criterion='gini',\n",
      "            max_depth=None, max_features='auto', max_leaf_nodes=None,\n",
      "            min_impurity_decrease=0.0, min_impurity_split=None,\n",
      "            min_samples_leaf=1, min_samples_split=2,\n",
      "            min_weight_fraction_leaf=0.0, n_estimators=10, n_jobs=1,\n",
      "            oob_score=False, random_state=None, verbose=0,\n",
      "            warm_start=False)\n"
     ]
    }
   ],
   "source": [
    "# Create random forest classifier instance\n",
    "clf = RandomForestClassifier()\n",
    "trained_model = clf.fit(train_x, train_y)\n",
    "print (\"Trained model :: \", trained_model)\n",
    "predictions = trained_model.predict(test_x)"
   ]
  },
  {
   "cell_type": "code",
   "execution_count": 22,
   "metadata": {},
   "outputs": [
    {
     "name": "stdout",
     "output_type": "stream",
     "text": [
      "Actual outcome :: 4 and Predicted outcome :: 4\n",
      "Actual outcome :: 2 and Predicted outcome :: 2\n",
      "Actual outcome :: 2 and Predicted outcome :: 2\n",
      "Actual outcome :: 2 and Predicted outcome :: 2\n",
      "Actual outcome :: 4 and Predicted outcome :: 4\n",
      "Train Accuracy ::  0.9958071278825996\n",
      "Test Accuracy  ::  0.9463414634146341\n",
      " Confusion matrix  [[128   4]\n",
      " [  7  66]]\n"
     ]
    }
   ],
   "source": [
    "for i in range(0, 5):\n",
    "    print (\"Actual outcome :: {} and Predicted outcome :: {}\".format(list(test_y)[i], predictions[i]))\n",
    "print (\"Train Accuracy :: \", accuracy_score(train_y, trained_model.predict(train_x)))\n",
    "print (\"Test Accuracy  :: \", accuracy_score(test_y, predictions))\n",
    "print (\" Confusion matrix \", confusion_matrix(test_y, predictions))"
   ]
  },
  {
   "cell_type": "code",
   "execution_count": null,
   "metadata": {},
   "outputs": [],
   "source": []
  }
 ],
 "metadata": {
  "kernelspec": {
   "display_name": "Python 3",
   "language": "python",
   "name": "python3"
  },
  "language_info": {
   "codemirror_mode": {
    "name": "ipython",
    "version": 3
   },
   "file_extension": ".py",
   "mimetype": "text/x-python",
   "name": "python",
   "nbconvert_exporter": "python",
   "pygments_lexer": "ipython3",
   "version": "3.6.4"
  }
 },
 "nbformat": 4,
 "nbformat_minor": 2
}
